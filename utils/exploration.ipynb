{
 "cells": [
  {
   "cell_type": "markdown",
   "id": "55e0cd8d",
   "metadata": {},
   "source": [
    "# Exploration of the datasets"
   ]
  },
  {
   "cell_type": "markdown",
   "id": "076e9418",
   "metadata": {},
   "source": [
    "This notebook is dedicated to the exploration and understanding of the three datasets related to breast cancer.  \n",
    "The objective here is to analyze their structure, quality, and characteristics in order to design an appropriate cleaning and preparation strategy later."
   ]
  },
  {
   "cell_type": "code",
   "execution_count": 2,
   "id": "c2cd6b19",
   "metadata": {},
   "outputs": [],
   "source": [
    "# Import libraries\n",
    "import pandas as pd"
   ]
  },
  {
   "cell_type": "markdown",
   "id": "3264f38a",
   "metadata": {},
   "source": [
    "## Loading datasets into dataframe"
   ]
  },
  {
   "cell_type": "code",
   "execution_count": 3,
   "id": "02bfb669",
   "metadata": {},
   "outputs": [],
   "source": [
    "df_screen = pd.read_csv('../data/breast_cancer_screening.csv')\n",
    "df_death = pd.read_csv('../data/death_due_to_cancer.csv')\n",
    "df_exam = pd.read_csv('../data/breast_exam_income.csv')"
   ]
  },
  {
   "cell_type": "markdown",
   "id": "f7eb617e",
   "metadata": {},
   "source": [
    "Three CSV files were downloaded from the **data.europa.eu**:\n",
    "\n",
    "1. `breast_cancer_screening.csv`: percentage of women participating in breast cancer screening programs (2000–2021).\n",
    "\n",
    "https://data.europa.eu/data/datasets/75kk9hje0s7cm2idhpvvww?locale=en\n",
    "<br/><br/>\n",
    "\n",
    "2. `death_due_to_cancer.csv`: death rates from various cancers by sex and country.\n",
    "\n",
    "https://data.europa.eu/data/datasets/is1cbzt2xixmwv630aoqpw?locale=en\n",
    "<br/><br/>\n",
    "\n",
    "3. `breast_exam_income.csv`: percentage of women who reported having a breast examination (X-ray) by income level and age.\n",
    "\n",
    "https://data.europa.eu/data/datasets/otvi02wdhgtfmmgvvkvgxa?locale=en\n",
    "<br/><br/>\n",
    "\n",
    "These datasets together allow us to analyze how screening participation, mortality, and socioeconomic factors interact in the context of breast cancer awareness."
   ]
  },
  {
   "cell_type": "markdown",
   "id": "702b01ec",
   "metadata": {},
   "source": [
    "## 1. Breast cancer screening dataset"
   ]
  },
  {
   "cell_type": "markdown",
   "id": "a2d22c11",
   "metadata": {},
   "source": [
    "This dataset contains information about the **percentage of women screened for breast cancer** (mammography) in each European country between **2000 and 2021**.\n",
    "\n",
    "We begin by inspecting its structure and identifying potential quality issues such as missing values, duplicates, or redundant columns."
   ]
  },
  {
   "cell_type": "code",
   "execution_count": 94,
   "id": "0fc794b0",
   "metadata": {},
   "outputs": [
    {
     "data": {
      "text/html": [
       "<div>\n",
       "<style scoped>\n",
       "    .dataframe tbody tr th:only-of-type {\n",
       "        vertical-align: middle;\n",
       "    }\n",
       "\n",
       "    .dataframe tbody tr th {\n",
       "        vertical-align: top;\n",
       "    }\n",
       "\n",
       "    .dataframe thead th {\n",
       "        text-align: right;\n",
       "    }\n",
       "</style>\n",
       "<table border=\"1\" class=\"dataframe\">\n",
       "  <thead>\n",
       "    <tr style=\"text-align: right;\">\n",
       "      <th></th>\n",
       "      <th>DATAFLOW</th>\n",
       "      <th>LAST UPDATE</th>\n",
       "      <th>freq</th>\n",
       "      <th>unit</th>\n",
       "      <th>source</th>\n",
       "      <th>icd10</th>\n",
       "      <th>geo</th>\n",
       "      <th>TIME_PERIOD</th>\n",
       "      <th>OBS_VALUE</th>\n",
       "      <th>OBS_FLAG</th>\n",
       "      <th>CONF_STATUS</th>\n",
       "    </tr>\n",
       "  </thead>\n",
       "  <tbody>\n",
       "    <tr>\n",
       "      <th>0</th>\n",
       "      <td>ESTAT:HLTH_PS_SCRE(1.0)</td>\n",
       "      <td>12/07/22 11:00:00</td>\n",
       "      <td>A</td>\n",
       "      <td>PC</td>\n",
       "      <td>PRG</td>\n",
       "      <td>C50</td>\n",
       "      <td>BE</td>\n",
       "      <td>2001</td>\n",
       "      <td>50.0</td>\n",
       "      <td>NaN</td>\n",
       "      <td>NaN</td>\n",
       "    </tr>\n",
       "    <tr>\n",
       "      <th>1</th>\n",
       "      <td>ESTAT:HLTH_PS_SCRE(1.0)</td>\n",
       "      <td>12/07/22 11:00:00</td>\n",
       "      <td>A</td>\n",
       "      <td>PC</td>\n",
       "      <td>PRG</td>\n",
       "      <td>C50</td>\n",
       "      <td>BE</td>\n",
       "      <td>2002</td>\n",
       "      <td>54.0</td>\n",
       "      <td>NaN</td>\n",
       "      <td>NaN</td>\n",
       "    </tr>\n",
       "    <tr>\n",
       "      <th>2</th>\n",
       "      <td>ESTAT:HLTH_PS_SCRE(1.0)</td>\n",
       "      <td>12/07/22 11:00:00</td>\n",
       "      <td>A</td>\n",
       "      <td>PC</td>\n",
       "      <td>PRG</td>\n",
       "      <td>C50</td>\n",
       "      <td>BE</td>\n",
       "      <td>2003</td>\n",
       "      <td>53.7</td>\n",
       "      <td>NaN</td>\n",
       "      <td>NaN</td>\n",
       "    </tr>\n",
       "    <tr>\n",
       "      <th>3</th>\n",
       "      <td>ESTAT:HLTH_PS_SCRE(1.0)</td>\n",
       "      <td>12/07/22 11:00:00</td>\n",
       "      <td>A</td>\n",
       "      <td>PC</td>\n",
       "      <td>PRG</td>\n",
       "      <td>C50</td>\n",
       "      <td>BE</td>\n",
       "      <td>2004</td>\n",
       "      <td>55.9</td>\n",
       "      <td>NaN</td>\n",
       "      <td>NaN</td>\n",
       "    </tr>\n",
       "    <tr>\n",
       "      <th>4</th>\n",
       "      <td>ESTAT:HLTH_PS_SCRE(1.0)</td>\n",
       "      <td>12/07/22 11:00:00</td>\n",
       "      <td>A</td>\n",
       "      <td>PC</td>\n",
       "      <td>PRG</td>\n",
       "      <td>C50</td>\n",
       "      <td>BE</td>\n",
       "      <td>2005</td>\n",
       "      <td>56.6</td>\n",
       "      <td>NaN</td>\n",
       "      <td>NaN</td>\n",
       "    </tr>\n",
       "  </tbody>\n",
       "</table>\n",
       "</div>"
      ],
      "text/plain": [
       "                  DATAFLOW        LAST UPDATE freq unit source icd10 geo  \\\n",
       "0  ESTAT:HLTH_PS_SCRE(1.0)  12/07/22 11:00:00    A   PC    PRG   C50  BE   \n",
       "1  ESTAT:HLTH_PS_SCRE(1.0)  12/07/22 11:00:00    A   PC    PRG   C50  BE   \n",
       "2  ESTAT:HLTH_PS_SCRE(1.0)  12/07/22 11:00:00    A   PC    PRG   C50  BE   \n",
       "3  ESTAT:HLTH_PS_SCRE(1.0)  12/07/22 11:00:00    A   PC    PRG   C50  BE   \n",
       "4  ESTAT:HLTH_PS_SCRE(1.0)  12/07/22 11:00:00    A   PC    PRG   C50  BE   \n",
       "\n",
       "   TIME_PERIOD  OBS_VALUE OBS_FLAG  CONF_STATUS  \n",
       "0         2001       50.0      NaN          NaN  \n",
       "1         2002       54.0      NaN          NaN  \n",
       "2         2003       53.7      NaN          NaN  \n",
       "3         2004       55.9      NaN          NaN  \n",
       "4         2005       56.6      NaN          NaN  "
      ]
     },
     "execution_count": 94,
     "metadata": {},
     "output_type": "execute_result"
    }
   ],
   "source": [
    "# Display first few rows\n",
    "df_screen.head()"
   ]
  },
  {
   "cell_type": "markdown",
   "id": "7aed23fd",
   "metadata": {},
   "source": [
    "- `DATAFLOW`: Dataset identifier\n",
    "- `LAST UPDATE`: Date and time when the dataset was last updated (12/07/22)\n",
    "- `freq`: Data collection frequency - here `A` stands for annual\n",
    "- `unit`: Measurement unit - `PC` means percentage of the target population\n",
    "- `source`: Indicates the type of screening program. Example: `PRG` refers to organized public screening programs\n",
    "- `icd10`: ICD-10 code for the disease. `C50` corresponds to breast cancer (malignant neoplasm of the breast)\n",
    "- `geo`: Country code (e.g., `BE` = Belgium, `FR` = France, `DE` = Germany)\n",
    "- `TIME_PERIOD`: Year of data collection (from 2000 to 2021)\n",
    "- `OBS_VALUE`: Observed value - the percentage of women screened for breast cancer in that country and year\n",
    "- `OBS_FLAG`: Observation flag indicating data status (e.g., provisional, estimated, or missing)\n",
    "- `CONF_STATUS`: Confidence status of the observation"
   ]
  },
  {
   "cell_type": "code",
   "execution_count": 95,
   "id": "72ac929d",
   "metadata": {},
   "outputs": [
    {
     "name": "stdout",
     "output_type": "stream",
     "text": [
      "(963, 11)\n"
     ]
    }
   ],
   "source": [
    "# Shape of the dataset\n",
    "print(df_screen.shape)"
   ]
  },
  {
   "cell_type": "markdown",
   "id": "f378e457",
   "metadata": {},
   "source": [
    "The dataset contains 963 rows and 11 columns, which indicates a moderate dataset size, manageable for exploratory analysis."
   ]
  },
  {
   "cell_type": "code",
   "execution_count": 96,
   "id": "45e35269",
   "metadata": {},
   "outputs": [
    {
     "name": "stdout",
     "output_type": "stream",
     "text": [
      "<class 'pandas.core.frame.DataFrame'>\n",
      "RangeIndex: 963 entries, 0 to 962\n",
      "Data columns (total 11 columns):\n",
      " #   Column       Non-Null Count  Dtype  \n",
      "---  ------       --------------  -----  \n",
      " 0   DATAFLOW     963 non-null    object \n",
      " 1   LAST UPDATE  963 non-null    object \n",
      " 2   freq         963 non-null    object \n",
      " 3   unit         963 non-null    object \n",
      " 4   source       963 non-null    object \n",
      " 5   icd10        963 non-null    object \n",
      " 6   geo          963 non-null    object \n",
      " 7   TIME_PERIOD  963 non-null    int64  \n",
      " 8   OBS_VALUE    963 non-null    float64\n",
      " 9   OBS_FLAG     314 non-null    object \n",
      " 10  CONF_STATUS  0 non-null      float64\n",
      "dtypes: float64(2), int64(1), object(8)\n",
      "memory usage: 82.9+ KB\n",
      "None\n"
     ]
    }
   ],
   "source": [
    "# Information\n",
    "print(df_screen.info())"
   ]
  },
  {
   "cell_type": "markdown",
   "id": "7b68545b",
   "metadata": {},
   "source": [
    "From the `info()` output, we can see:\n",
    "- `OBS_VALUE` (the main variable of interest) has no missing values.  \n",
    "- `CONF_STATUS` is entirely missing and should be dropped.  \n",
    "- `OBS_FLAG` has more than 600 missing values and limited analytical use.  \n",
    "- Other columns like `DATAFLOW`, `LAST UPDATE`, `freq`, and `unit` have constant values, meaning they do not provide useful variation.\n",
    "\n",
    "These findings suggest a relatively clean dataset, with a few redundant columns that can be safely removed."
   ]
  },
  {
   "cell_type": "code",
   "execution_count": 97,
   "id": "61a9d981",
   "metadata": {},
   "outputs": [
    {
     "name": "stdout",
     "output_type": "stream",
     "text": [
      "CONF_STATUS    100.000000\n",
      "OBS_FLAG        67.393562\n",
      "DATAFLOW         0.000000\n",
      "LAST UPDATE      0.000000\n",
      "freq             0.000000\n",
      "unit             0.000000\n",
      "source           0.000000\n",
      "icd10            0.000000\n",
      "geo              0.000000\n",
      "TIME_PERIOD      0.000000\n",
      "OBS_VALUE        0.000000\n",
      "dtype: float64\n"
     ]
    }
   ],
   "source": [
    "# Overview of missing values (%)\n",
    "missing = df_screen.isna().mean().sort_values(ascending=False) * 100\n",
    "print(missing)"
   ]
  },
  {
   "cell_type": "markdown",
   "id": "4332b7d6",
   "metadata": {},
   "source": [
    "The percentage of missing values shows that:\n",
    "- `CONF_STATUS`: 100% missing  \n",
    "- `OBS_FLAG`: 67% missing  \n",
    "- All other columns are complete.\n",
    "\n",
    "Since these two columns do not add analytical value, the best approach is to drop them from the dataset."
   ]
  },
  {
   "cell_type": "code",
   "execution_count": 98,
   "id": "9fac3905",
   "metadata": {},
   "outputs": [
    {
     "name": "stdout",
     "output_type": "stream",
     "text": [
      "0\n"
     ]
    }
   ],
   "source": [
    "# Count duplicates\n",
    "print(df_screen.duplicated().sum())"
   ]
  },
  {
   "cell_type": "markdown",
   "id": "7e520e73",
   "metadata": {},
   "source": [
    "There are no duplicate rows in the dataset, confirming that each record is unique by country and year."
   ]
  },
  {
   "cell_type": "code",
   "execution_count": 99,
   "id": "70af4296",
   "metadata": {},
   "outputs": [
    {
     "name": "stdout",
     "output_type": "stream",
     "text": [
      "       TIME_PERIOD   OBS_VALUE  CONF_STATUS\n",
      "count   963.000000  963.000000          0.0\n",
      "mean   2012.401869   57.852347          NaN\n",
      "std       5.376421   20.479383          NaN\n",
      "min    2000.000000    0.040000          NaN\n",
      "25%    2008.000000   46.025000          NaN\n",
      "50%    2013.000000   61.800000          NaN\n",
      "75%    2017.000000   74.200000          NaN\n",
      "max    2021.000000   95.200000          NaN\n"
     ]
    }
   ],
   "source": [
    "# Summary of numeric columns\n",
    "print(df_screen.describe())"
   ]
  },
  {
   "cell_type": "markdown",
   "id": "a51f81c3",
   "metadata": {},
   "source": [
    "The descriptive statistics show that:\n",
    "- Screening rates (`OBS_VALUE`) range from 0.04% to 95.2%, which is realistic for participation rates across different countries.  \n",
    "- The time period spans from 2000 to 2021, covering over two decades of public health data.  \n",
    "- The mean screening rate is around 57.8%, with a relatively high standard deviation (20.5), indicating significant differences between countries and years."
   ]
  },
  {
   "cell_type": "code",
   "execution_count": 100,
   "id": "0a081af4",
   "metadata": {},
   "outputs": [
    {
     "name": "stdout",
     "output_type": "stream",
     "text": [
      "DATAFLOW: 1 unique values\n",
      "LAST UPDATE: 1 unique values\n",
      "freq: 1 unique values\n",
      "unit: 1 unique values\n",
      "source: 2 unique values\n",
      "icd10: 2 unique values\n",
      "geo: 36 unique values\n",
      "OBS_FLAG: 6 unique values\n"
     ]
    }
   ],
   "source": [
    "# Unique values in categorical fields\n",
    "for col in df_screen.select_dtypes('object'):\n",
    "    print(f\"{col}: {df_screen[col].nunique()} unique values\")"
   ]
  },
  {
   "cell_type": "markdown",
   "id": "1dae67dc",
   "metadata": {},
   "source": [
    "### Preliminary Cleaning Decisions\n",
    "\n",
    "Based on the analysis above, the following actions will be applied:\n",
    "1. Drop irrelevant columns: `DATAFLOW`, `LAST UPDATE`, `freq`, `CONF_STATUS`, and `OBS_FLAG`.  \n",
    "2. Filter rows where `icd10 == 'C50'` (breast cancer only).  \n",
    "3. Keep only rows where `source == 'PRG'` (organized screening programs).  \n",
    "4. Rename columns for clarity:  \n",
    "   - `geo` --> `country`  \n",
    "   - `TIME_PERIOD` --> `year`  \n",
    "   - `OBS_VALUE` --> `screening_rate`\n",
    "\n",
    "These transformations will produce a clean dataset ready for analysis and integration with the mortality and income datasets."
   ]
  },
  {
   "cell_type": "markdown",
   "id": "069da89c",
   "metadata": {},
   "source": [
    "## 2. Death rate by cancer dataset"
   ]
  },
  {
   "cell_type": "markdown",
   "id": "45c6d192",
   "metadata": {},
   "source": [
    "This dataset provides information on death rates due to cancer.  \n",
    "It includes multiple cancer types, but we are specifically interested in breast cancer deaths (ICD-10 code C50) among women."
   ]
  },
  {
   "cell_type": "code",
   "execution_count": 101,
   "id": "e53321e6",
   "metadata": {},
   "outputs": [
    {
     "data": {
      "text/html": [
       "<div>\n",
       "<style scoped>\n",
       "    .dataframe tbody tr th:only-of-type {\n",
       "        vertical-align: middle;\n",
       "    }\n",
       "\n",
       "    .dataframe tbody tr th {\n",
       "        vertical-align: top;\n",
       "    }\n",
       "\n",
       "    .dataframe thead th {\n",
       "        text-align: right;\n",
       "    }\n",
       "</style>\n",
       "<table border=\"1\" class=\"dataframe\">\n",
       "  <thead>\n",
       "    <tr style=\"text-align: right;\">\n",
       "      <th></th>\n",
       "      <th>DATAFLOW</th>\n",
       "      <th>LAST UPDATE</th>\n",
       "      <th>freq</th>\n",
       "      <th>unit</th>\n",
       "      <th>age</th>\n",
       "      <th>icd10</th>\n",
       "      <th>sex</th>\n",
       "      <th>geo</th>\n",
       "      <th>TIME_PERIOD</th>\n",
       "      <th>OBS_VALUE</th>\n",
       "      <th>OBS_FLAG</th>\n",
       "      <th>CONF_STATUS</th>\n",
       "    </tr>\n",
       "  </thead>\n",
       "  <tbody>\n",
       "    <tr>\n",
       "      <th>0</th>\n",
       "      <td>ESTAT:TPS00116(1.0)</td>\n",
       "      <td>21/03/25 11:00:00</td>\n",
       "      <td>A</td>\n",
       "      <td>RT</td>\n",
       "      <td>TOTAL</td>\n",
       "      <td>C</td>\n",
       "      <td>F</td>\n",
       "      <td>AT</td>\n",
       "      <td>2011</td>\n",
       "      <td>205.15</td>\n",
       "      <td>NaN</td>\n",
       "      <td>NaN</td>\n",
       "    </tr>\n",
       "    <tr>\n",
       "      <th>1</th>\n",
       "      <td>ESTAT:TPS00116(1.0)</td>\n",
       "      <td>21/03/25 11:00:00</td>\n",
       "      <td>A</td>\n",
       "      <td>RT</td>\n",
       "      <td>TOTAL</td>\n",
       "      <td>C</td>\n",
       "      <td>F</td>\n",
       "      <td>AT</td>\n",
       "      <td>2012</td>\n",
       "      <td>206.30</td>\n",
       "      <td>NaN</td>\n",
       "      <td>NaN</td>\n",
       "    </tr>\n",
       "    <tr>\n",
       "      <th>2</th>\n",
       "      <td>ESTAT:TPS00116(1.0)</td>\n",
       "      <td>21/03/25 11:00:00</td>\n",
       "      <td>A</td>\n",
       "      <td>RT</td>\n",
       "      <td>TOTAL</td>\n",
       "      <td>C</td>\n",
       "      <td>F</td>\n",
       "      <td>AT</td>\n",
       "      <td>2013</td>\n",
       "      <td>198.24</td>\n",
       "      <td>NaN</td>\n",
       "      <td>NaN</td>\n",
       "    </tr>\n",
       "    <tr>\n",
       "      <th>3</th>\n",
       "      <td>ESTAT:TPS00116(1.0)</td>\n",
       "      <td>21/03/25 11:00:00</td>\n",
       "      <td>A</td>\n",
       "      <td>RT</td>\n",
       "      <td>TOTAL</td>\n",
       "      <td>C</td>\n",
       "      <td>F</td>\n",
       "      <td>AT</td>\n",
       "      <td>2014</td>\n",
       "      <td>202.41</td>\n",
       "      <td>NaN</td>\n",
       "      <td>NaN</td>\n",
       "    </tr>\n",
       "    <tr>\n",
       "      <th>4</th>\n",
       "      <td>ESTAT:TPS00116(1.0)</td>\n",
       "      <td>21/03/25 11:00:00</td>\n",
       "      <td>A</td>\n",
       "      <td>RT</td>\n",
       "      <td>TOTAL</td>\n",
       "      <td>C</td>\n",
       "      <td>F</td>\n",
       "      <td>AT</td>\n",
       "      <td>2015</td>\n",
       "      <td>194.97</td>\n",
       "      <td>NaN</td>\n",
       "      <td>NaN</td>\n",
       "    </tr>\n",
       "  </tbody>\n",
       "</table>\n",
       "</div>"
      ],
      "text/plain": [
       "              DATAFLOW        LAST UPDATE freq unit    age icd10 sex geo  \\\n",
       "0  ESTAT:TPS00116(1.0)  21/03/25 11:00:00    A   RT  TOTAL     C   F  AT   \n",
       "1  ESTAT:TPS00116(1.0)  21/03/25 11:00:00    A   RT  TOTAL     C   F  AT   \n",
       "2  ESTAT:TPS00116(1.0)  21/03/25 11:00:00    A   RT  TOTAL     C   F  AT   \n",
       "3  ESTAT:TPS00116(1.0)  21/03/25 11:00:00    A   RT  TOTAL     C   F  AT   \n",
       "4  ESTAT:TPS00116(1.0)  21/03/25 11:00:00    A   RT  TOTAL     C   F  AT   \n",
       "\n",
       "   TIME_PERIOD  OBS_VALUE OBS_FLAG  CONF_STATUS  \n",
       "0         2011     205.15      NaN          NaN  \n",
       "1         2012     206.30      NaN          NaN  \n",
       "2         2013     198.24      NaN          NaN  \n",
       "3         2014     202.41      NaN          NaN  \n",
       "4         2015     194.97      NaN          NaN  "
      ]
     },
     "execution_count": 101,
     "metadata": {},
     "output_type": "execute_result"
    }
   ],
   "source": [
    "# Display first few rows\n",
    "df_death.head()"
   ]
  },
  {
   "cell_type": "markdown",
   "id": "426804be",
   "metadata": {},
   "source": [
    "- `DATAFLOW`: Dataset identifier  \n",
    "- `LAST UPDATE`: Date and time when the dataset was last updated (`21/03/25 11:00:00`)  \n",
    "- `freq`: Data frequency - `A` stands for annual reporting\n",
    "- `unit`: Unit of measurement - `RT` indicates rate per 100 000 inhabitants, standardized by age\n",
    "- `age`: Age category of the population (e.g., `TOTAL` means all age groups combined)\n",
    "- `icd10`: ICD-10 classification code for the type of cancer\n",
    "- `sex`: Gender of the population\n",
    "  - `F` = Female, `M` = Male, `T` = Total (both sexes combined)\n",
    "- `geo`: Country code\n",
    "- `TIME_PERIOD`: Year of data collection\n",
    "- `OBS_VALUE`: Observed death rate for that cancer type, country, and year (per 100 000 inhabitants)\n",
    "- `OBS_FLAG`: Observation flag - marks data status (e.g., provisional, estimated)\n",
    "- `CONF_STATUS`: Confidence status indicator"
   ]
  },
  {
   "cell_type": "code",
   "execution_count": 102,
   "id": "96139203",
   "metadata": {},
   "outputs": [
    {
     "name": "stdout",
     "output_type": "stream",
     "text": [
      "(1248, 12)\n"
     ]
    }
   ],
   "source": [
    "# Shape of the dataset\n",
    "print(df_death.shape)"
   ]
  },
  {
   "cell_type": "markdown",
   "id": "a29c9dbc",
   "metadata": {},
   "source": [
    "The dataset contains 1248 rows and 12 columns. This size is manageable for exploration and visualization."
   ]
  },
  {
   "cell_type": "code",
   "execution_count": 103,
   "id": "8ad180a2",
   "metadata": {},
   "outputs": [
    {
     "name": "stdout",
     "output_type": "stream",
     "text": [
      "<class 'pandas.core.frame.DataFrame'>\n",
      "RangeIndex: 1248 entries, 0 to 1247\n",
      "Data columns (total 12 columns):\n",
      " #   Column       Non-Null Count  Dtype  \n",
      "---  ------       --------------  -----  \n",
      " 0   DATAFLOW     1248 non-null   object \n",
      " 1   LAST UPDATE  1248 non-null   object \n",
      " 2   freq         1248 non-null   object \n",
      " 3   unit         1248 non-null   object \n",
      " 4   age          1248 non-null   object \n",
      " 5   icd10        1248 non-null   object \n",
      " 6   sex          1248 non-null   object \n",
      " 7   geo          1248 non-null   object \n",
      " 8   TIME_PERIOD  1248 non-null   int64  \n",
      " 9   OBS_VALUE    1248 non-null   float64\n",
      " 10  OBS_FLAG     54 non-null     object \n",
      " 11  CONF_STATUS  0 non-null      float64\n",
      "dtypes: float64(2), int64(1), object(9)\n",
      "memory usage: 117.1+ KB\n",
      "None\n"
     ]
    }
   ],
   "source": [
    "# Information\n",
    "print(df_death.info())"
   ]
  },
  {
   "cell_type": "markdown",
   "id": "3ac192cf",
   "metadata": {},
   "source": [
    "From the `info()` output, we can observe the following:\n",
    "\n",
    "- All key columns such as `icd10`, `sex`, `geo`, `TIME_PERIOD`, and `OBS_VALUE` are complete - there are no missing values in these fields.  \n",
    "- The column `CONF_STATUS` is completely empty (0 non-null values) and can be dropped.  \n",
    "- The column `OBS_FLAG` contains only 54 non-null values (around 4%), meaning it is mostly missing and not useful for analysis.  \n",
    "- The columns `DATAFLOW`, `LAST UPDATE`, `freq`, and `unit` are fully filled but constant - they do not provide analytical information.  \n",
    "- The dataset uses appropriate data types:  \n",
    "  - `TIME_PERIOD` is stored as integer (year).  \n",
    "  - `OBS_VALUE` is float, representing the mortality rate.  \n",
    "  - Other fields are stored as object (string), which is fine for categorical variables.\n",
    "\n",
    "Overall, the dataset is clean and well-structured, with only a few redundant or low-value columns that will be removed during the cleaning phase.\n"
   ]
  },
  {
   "cell_type": "code",
   "execution_count": 104,
   "id": "6935304e",
   "metadata": {},
   "outputs": [
    {
     "name": "stdout",
     "output_type": "stream",
     "text": [
      "CONF_STATUS    100.000000\n",
      "OBS_FLAG        95.673077\n",
      "DATAFLOW         0.000000\n",
      "LAST UPDATE      0.000000\n",
      "freq             0.000000\n",
      "unit             0.000000\n",
      "age              0.000000\n",
      "icd10            0.000000\n",
      "sex              0.000000\n",
      "geo              0.000000\n",
      "TIME_PERIOD      0.000000\n",
      "OBS_VALUE        0.000000\n",
      "dtype: float64\n"
     ]
    }
   ],
   "source": [
    "# Overview of missing values (%)\n",
    "missing = df_death.isna().mean().sort_values(ascending=False) * 100\n",
    "print(missing)"
   ]
  },
  {
   "cell_type": "markdown",
   "id": "4987f2be",
   "metadata": {},
   "source": [
    "The percentage of missing values shows that:\n",
    "- `CONF_STATUS`: 100% missing  \n",
    "- `OBS_FLAG`: 96% missing  \n",
    "- All other columns are complete.\n",
    "\n",
    "Since these two columns do not add analytical value, the best approach is to drop them from the dataset."
   ]
  },
  {
   "cell_type": "code",
   "execution_count": 105,
   "id": "65b2a26d",
   "metadata": {},
   "outputs": [
    {
     "name": "stdout",
     "output_type": "stream",
     "text": [
      "0\n"
     ]
    }
   ],
   "source": [
    "# Count duplicates\n",
    "print(df_death.duplicated().sum())"
   ]
  },
  {
   "cell_type": "markdown",
   "id": "ba40ff6e",
   "metadata": {},
   "source": [
    "There are no duplicate rows in the dataset, confirming that each record is unique by country and year."
   ]
  },
  {
   "cell_type": "code",
   "execution_count": 106,
   "id": "6bb7aa97",
   "metadata": {},
   "outputs": [
    {
     "name": "stdout",
     "output_type": "stream",
     "text": [
      "       TIME_PERIOD    OBS_VALUE  CONF_STATUS\n",
      "count  1248.000000  1248.000000          0.0\n",
      "mean   2016.461538   265.340537          NaN\n",
      "std       3.445783    76.266042          NaN\n",
      "min    2011.000000   102.710000          NaN\n",
      "25%    2013.000000   209.465000          NaN\n",
      "50%    2016.000000   249.455000          NaN\n",
      "75%    2019.000000   308.577500          NaN\n",
      "max    2022.000000   504.430000          NaN\n"
     ]
    }
   ],
   "source": [
    "# Summary of numeric columns\n",
    "print(df_death.describe())"
   ]
  },
  {
   "cell_type": "markdown",
   "id": "8d8bc4ef",
   "metadata": {},
   "source": [
    "The descriptive statistics show that:\n",
    "\n",
    "- The dataset covers the period from 2011 to 2022, which provides more than a decade of mortality data\n",
    "- The mean mortality rate (`OBS_VALUE`) across all cancer types, sexes, and countries is approximately 265 deaths per 100,000 inhabitants\n",
    "- The minimum value (~ 103) and maximum value (~ 504) indicate large variations between countries and cancer types, which is expected\n",
    "- The standard deviation (~ 76) confirms this variability across European countries\n",
    "- The `CONF_STATUS` column contains no values and will be removed during cleaning\n",
    "\n",
    "Overall, the data distribution appears realistic for standardized mortality rates.\n",
    "The next step is to identify which columns contain missing or redundant data and to prepare filtering for female breast cancer (icd10 = 'C50', sex = 'F').\n"
   ]
  },
  {
   "cell_type": "code",
   "execution_count": 107,
   "id": "82639ea3",
   "metadata": {},
   "outputs": [
    {
     "name": "stdout",
     "output_type": "stream",
     "text": [
      "DATAFLOW: 1 unique values\n",
      "LAST UPDATE: 1 unique values\n",
      "freq: 1 unique values\n",
      "unit: 1 unique values\n",
      "age: 1 unique values\n",
      "icd10: 1 unique values\n",
      "sex: 3 unique values\n",
      "geo: 35 unique values\n",
      "OBS_FLAG: 1 unique values\n"
     ]
    }
   ],
   "source": [
    "# Unique values in categorical fields\n",
    "for col in df_death.select_dtypes('object'):\n",
    "    print(f\"{col}: {df_death[col].nunique()} unique values\")"
   ]
  },
  {
   "cell_type": "markdown",
   "id": "1bb77eff",
   "metadata": {},
   "source": [
    "The categorical column analysis reveals that:\n",
    "\n",
    "- `DATAFLOW`, `LAST UPDATE`, `freq`, `unit`, and `age` each have only one unique value, meaning they are constant across the dataset and can be safely removed.\n",
    "- `icd10` also contains only one unique code, which in this dataset corresponds to “C” (all cancers combined) rather than a specific type.\n",
    "- `sex` has three unique values - `F` (female), `M` (male), and `T` (total).\n",
    "  For our study, we will focus only on female mortality (F).\n",
    "- `geo` includes 35 country codes, representing the European countries in the dataset.\n",
    "- `OBS_FLAG` has one unique value and provides no additional information.\n",
    "\n",
    "These findings confirm that several metadata columns are redundant, and only a subset of variables (`geo`, `TIME_PERIOD`, `sex`, and `OBS_VALUE`) will be needed for analysis."
   ]
  },
  {
   "cell_type": "markdown",
   "id": "0ae8e155",
   "metadata": {},
   "source": [
    "### Preliminary Cleaning Decisions\n",
    "\n",
    "Based on the analysis above, the following actions will be applied:\n",
    "\n",
    "1. **Drop irrelevant or redundant columns:**  \n",
    "   `DATAFLOW`, `LAST UPDATE`, `freq`, `CONF_STATUS`, and `OBS_FLAG` - they contain constant values or are mostly empty.  \n",
    "\n",
    "2. **Filter records:**  \n",
    "   - Keep only rows where `sex == 'F'` (female).  \n",
    "   - Keep only rows where `icd10 == 'C50'` (breast cancer).  \n",
    "\n",
    "3. **Rename columns for clarity:**  \n",
    "   - `geo` --> `country`  \n",
    "   - `TIME_PERIOD` --> `year`  \n",
    "   - `OBS_VALUE` --> `mortality_rate`  \n",
    "\n",
    "4. **Keep only relevant columns:**  \n",
    "   `country`, `year`, `unit`, `age`, `sex`, `icd10`, `mortality_rate`.\n",
    "\n",
    "5. **Convert data types:**  \n",
    "   - `year` --> integer  \n",
    "   - `mortality_rate` --> float  \n",
    "\n",
    "These transformations will produce a clean dataset containing female breast cancer mortality rates across European countries from 2011 to 2022, ready for comparison with screening participation data."
   ]
  },
  {
   "cell_type": "markdown",
   "id": "53db8fe0",
   "metadata": {},
   "source": [
    "## 3. Self-reported breast examination dataset"
   ]
  },
  {
   "cell_type": "markdown",
   "id": "90d1ff61",
   "metadata": {},
   "source": [
    "This dataset contains information on the percentage of women who reported having a breast examination (by X-ray), categorized by age group and income quintile.\n",
    "It allows us to study socioeconomic disparities in breast cancer screening participation across European countries."
   ]
  },
  {
   "cell_type": "code",
   "execution_count": 108,
   "id": "cb8a7991",
   "metadata": {},
   "outputs": [
    {
     "data": {
      "text/html": [
       "<div>\n",
       "<style scoped>\n",
       "    .dataframe tbody tr th:only-of-type {\n",
       "        vertical-align: middle;\n",
       "    }\n",
       "\n",
       "    .dataframe tbody tr th {\n",
       "        vertical-align: top;\n",
       "    }\n",
       "\n",
       "    .dataframe thead th {\n",
       "        text-align: right;\n",
       "    }\n",
       "</style>\n",
       "<table border=\"1\" class=\"dataframe\">\n",
       "  <thead>\n",
       "    <tr style=\"text-align: right;\">\n",
       "      <th></th>\n",
       "      <th>DATAFLOW</th>\n",
       "      <th>LAST UPDATE</th>\n",
       "      <th>freq</th>\n",
       "      <th>duration</th>\n",
       "      <th>age</th>\n",
       "      <th>quant_inc</th>\n",
       "      <th>unit</th>\n",
       "      <th>geo</th>\n",
       "      <th>TIME_PERIOD</th>\n",
       "      <th>OBS_VALUE</th>\n",
       "      <th>OBS_FLAG</th>\n",
       "      <th>CONF_STATUS</th>\n",
       "    </tr>\n",
       "  </thead>\n",
       "  <tbody>\n",
       "    <tr>\n",
       "      <th>0</th>\n",
       "      <td>ESTAT:HLTH_EHIS_PA7I(1.0)</td>\n",
       "      <td>24/02/22 23:00:00</td>\n",
       "      <td>A</td>\n",
       "      <td>NEV</td>\n",
       "      <td>TOTAL</td>\n",
       "      <td>QU1</td>\n",
       "      <td>PC</td>\n",
       "      <td>AT</td>\n",
       "      <td>2019</td>\n",
       "      <td>30.2</td>\n",
       "      <td>NaN</td>\n",
       "      <td>NaN</td>\n",
       "    </tr>\n",
       "    <tr>\n",
       "      <th>1</th>\n",
       "      <td>ESTAT:HLTH_EHIS_PA7I(1.0)</td>\n",
       "      <td>24/02/22 23:00:00</td>\n",
       "      <td>A</td>\n",
       "      <td>NEV</td>\n",
       "      <td>TOTAL</td>\n",
       "      <td>QU1</td>\n",
       "      <td>PC</td>\n",
       "      <td>BE</td>\n",
       "      <td>2019</td>\n",
       "      <td>35.2</td>\n",
       "      <td>NaN</td>\n",
       "      <td>NaN</td>\n",
       "    </tr>\n",
       "    <tr>\n",
       "      <th>2</th>\n",
       "      <td>ESTAT:HLTH_EHIS_PA7I(1.0)</td>\n",
       "      <td>24/02/22 23:00:00</td>\n",
       "      <td>A</td>\n",
       "      <td>NEV</td>\n",
       "      <td>TOTAL</td>\n",
       "      <td>QU1</td>\n",
       "      <td>PC</td>\n",
       "      <td>BG</td>\n",
       "      <td>2019</td>\n",
       "      <td>58.2</td>\n",
       "      <td>NaN</td>\n",
       "      <td>NaN</td>\n",
       "    </tr>\n",
       "    <tr>\n",
       "      <th>3</th>\n",
       "      <td>ESTAT:HLTH_EHIS_PA7I(1.0)</td>\n",
       "      <td>24/02/22 23:00:00</td>\n",
       "      <td>A</td>\n",
       "      <td>NEV</td>\n",
       "      <td>TOTAL</td>\n",
       "      <td>QU1</td>\n",
       "      <td>PC</td>\n",
       "      <td>CY</td>\n",
       "      <td>2019</td>\n",
       "      <td>55.2</td>\n",
       "      <td>NaN</td>\n",
       "      <td>NaN</td>\n",
       "    </tr>\n",
       "    <tr>\n",
       "      <th>4</th>\n",
       "      <td>ESTAT:HLTH_EHIS_PA7I(1.0)</td>\n",
       "      <td>24/02/22 23:00:00</td>\n",
       "      <td>A</td>\n",
       "      <td>NEV</td>\n",
       "      <td>TOTAL</td>\n",
       "      <td>QU1</td>\n",
       "      <td>PC</td>\n",
       "      <td>CZ</td>\n",
       "      <td>2019</td>\n",
       "      <td>34.6</td>\n",
       "      <td>NaN</td>\n",
       "      <td>NaN</td>\n",
       "    </tr>\n",
       "  </tbody>\n",
       "</table>\n",
       "</div>"
      ],
      "text/plain": [
       "                    DATAFLOW        LAST UPDATE freq duration    age  \\\n",
       "0  ESTAT:HLTH_EHIS_PA7I(1.0)  24/02/22 23:00:00    A      NEV  TOTAL   \n",
       "1  ESTAT:HLTH_EHIS_PA7I(1.0)  24/02/22 23:00:00    A      NEV  TOTAL   \n",
       "2  ESTAT:HLTH_EHIS_PA7I(1.0)  24/02/22 23:00:00    A      NEV  TOTAL   \n",
       "3  ESTAT:HLTH_EHIS_PA7I(1.0)  24/02/22 23:00:00    A      NEV  TOTAL   \n",
       "4  ESTAT:HLTH_EHIS_PA7I(1.0)  24/02/22 23:00:00    A      NEV  TOTAL   \n",
       "\n",
       "  quant_inc unit geo  TIME_PERIOD  OBS_VALUE OBS_FLAG  CONF_STATUS  \n",
       "0       QU1   PC  AT         2019       30.2      NaN          NaN  \n",
       "1       QU1   PC  BE         2019       35.2      NaN          NaN  \n",
       "2       QU1   PC  BG         2019       58.2      NaN          NaN  \n",
       "3       QU1   PC  CY         2019       55.2      NaN          NaN  \n",
       "4       QU1   PC  CZ         2019       34.6      NaN          NaN  "
      ]
     },
     "execution_count": 108,
     "metadata": {},
     "output_type": "execute_result"
    }
   ],
   "source": [
    "# Display first few rows\n",
    "df_exam.head()"
   ]
  },
  {
   "cell_type": "markdown",
   "id": "699c85b0",
   "metadata": {},
   "source": [
    "- `DATAFLOW`: Dataset identifier \n",
    "- `LAST UPDATE`: Date and time when the dataset was last updated in the Eurostat database (`24/02/22 23:00:00`).\n",
    "- `freq`: Data frequency - `A` indicates annual data collection\n",
    "- `duration`: Indicates the recency or frequency of the examination\n",
    "  - Example: `NEV` = Never had a breast X-ray\n",
    "- `age`: Age group of respondents (e.g., `40-49`, `50-69`, or `TOTAL` for all ages)\n",
    "- `quant_inc`: Income quintile of respondents:\n",
    "  - `QU1` = lowest income,\n",
    "  - `QU5` = highest income\n",
    "- `unit`: Measurement unit - `PC` stands for **percentage** of respondents in that category\n",
    "- `geo`: Country code\n",
    "- `TIME_PERIOD`: Year of data collection (here: `2019`)\n",
    "- `OBS_VALUE`: Observed percentage of women who reported having a breast X-ray in that year, age group, and income level\n",
    "- `OBS_FLAG`: Observation flag\n",
    "- `CONF_STATUS`: Confidence status indicator"
   ]
  },
  {
   "cell_type": "code",
   "execution_count": 109,
   "id": "edc77b6f",
   "metadata": {},
   "outputs": [
    {
     "name": "stdout",
     "output_type": "stream",
     "text": [
      "(17472, 12)\n"
     ]
    }
   ],
   "source": [
    "# Shape of the dataset\n",
    "print(df_exam.shape)"
   ]
  },
  {
   "cell_type": "markdown",
   "id": "c45259a6",
   "metadata": {},
   "source": [
    "The dataset contains 17 472 rows and 12 columns, representing a wide range of country, age group, and income quintile combinations.\n",
    "This larger size reflects the detailed breakdown by age**, income, and duration of last examination, making it valuable for studying socioeconomic and demographic disparities in breast examination participation."
   ]
  },
  {
   "cell_type": "code",
   "execution_count": 110,
   "id": "566208c8",
   "metadata": {},
   "outputs": [
    {
     "name": "stdout",
     "output_type": "stream",
     "text": [
      "<class 'pandas.core.frame.DataFrame'>\n",
      "RangeIndex: 17472 entries, 0 to 17471\n",
      "Data columns (total 12 columns):\n",
      " #   Column       Non-Null Count  Dtype  \n",
      "---  ------       --------------  -----  \n",
      " 0   DATAFLOW     17472 non-null  object \n",
      " 1   LAST UPDATE  17472 non-null  object \n",
      " 2   freq         17472 non-null  object \n",
      " 3   duration     17472 non-null  object \n",
      " 4   age          17472 non-null  object \n",
      " 5   quant_inc    17472 non-null  object \n",
      " 6   unit         17472 non-null  object \n",
      " 7   geo          17472 non-null  object \n",
      " 8   TIME_PERIOD  17472 non-null  int64  \n",
      " 9   OBS_VALUE    17217 non-null  float64\n",
      " 10  OBS_FLAG     1030 non-null   object \n",
      " 11  CONF_STATUS  0 non-null      float64\n",
      "dtypes: float64(2), int64(1), object(9)\n",
      "memory usage: 1.6+ MB\n",
      "None\n"
     ]
    }
   ],
   "source": [
    "# Information\n",
    "print(df_exam.info())"
   ]
  },
  {
   "cell_type": "markdown",
   "id": "df217c3c",
   "metadata": {},
   "source": [
    "From the `info()` output, we can observe the following:\n",
    "\n",
    "- The dataset contains 17 472 entries and 12 columns, which confirms that it covers many combinations of country, age group, income quintile, and duration\n",
    "- Most columns are complete (`DATAFLOW`, `LAST UPDATE`, `freq`, `duration`, `age`, `quant_inc`, `unit`, and `geo` all have 17 472 non-null values)\n",
    "- The column `OBS_VALUE` has 17 217 non-null values, which is acceptable for large survey datasets\n",
    "- `OBS_FLAG` contains 1 030 non-null values (~ 6 %), meaning it is mostly missing and provides little analytical value\n",
    "- `CONF_STATUS` is entirely missing (0 non-null values) and will be dropped\n",
    "- The data types are appropriate:\n",
    "  - `TIME_PERIOD` is stored as integer (year)\n",
    "  - `OBS_VALUE` is float (percentage)\n",
    "  - The remaining columns are categorical strings (`object` type)\n",
    "\n",
    "Overall, the dataset is complete and well-structured, with minimal missing data in key analytical columns\n",
    "The only columns to be removed later are administrative or empty (`CONF_STATUS`, `OBS_FLAG`, `DATAFLOW`, `LAST UPDATE`, and `freq`).\n"
   ]
  },
  {
   "cell_type": "code",
   "execution_count": 111,
   "id": "45325203",
   "metadata": {},
   "outputs": [
    {
     "name": "stdout",
     "output_type": "stream",
     "text": [
      "CONF_STATUS    100.000000\n",
      "OBS_FLAG        94.104853\n",
      "OBS_VALUE        1.459478\n",
      "DATAFLOW         0.000000\n",
      "LAST UPDATE      0.000000\n",
      "freq             0.000000\n",
      "duration         0.000000\n",
      "age              0.000000\n",
      "quant_inc        0.000000\n",
      "unit             0.000000\n",
      "geo              0.000000\n",
      "TIME_PERIOD      0.000000\n",
      "dtype: float64\n"
     ]
    }
   ],
   "source": [
    "# Overview of missing values (%)\n",
    "missing = df_exam.isna().mean().sort_values(ascending=False) * 100\n",
    "print(missing)"
   ]
  },
  {
   "cell_type": "markdown",
   "id": "6dbfc196",
   "metadata": {},
   "source": [
    "The percentage of missing values in each column shows that:\n",
    "\n",
    "- `CONF_STATUS`: 100% missing - this column is entirely empty and will be dropped\n",
    "- `OBS_FLAG`: 94% missing - contains very few valid entries and provides little analytical value\n",
    "- `OBS_VALUE`: 1.46% missing - only a small fraction of records lack a reported percentage, which can be safely ignored or filled if needed.  \n",
    "- All other columns (`DATAFLOW`, `LAST UPDATE`, `freq`, `duration`, `age`, `quant_inc`, `unit`, `geo`, `TIME_PERIOD`) are complete with no missing values\n",
    "\n",
    "These results confirm that the dataset is overall complete and reliable.\n",
    "Only `CONF_STATUS` and `OBS_FLAG` should be removed during cleaning, as they contain mostly empty or redundant administrative information.\n"
   ]
  },
  {
   "cell_type": "code",
   "execution_count": 112,
   "id": "0cbd8ba9",
   "metadata": {},
   "outputs": [
    {
     "name": "stdout",
     "output_type": "stream",
     "text": [
      "0\n"
     ]
    }
   ],
   "source": [
    "# Count duplicates\n",
    "print(df_exam.duplicated().sum())"
   ]
  },
  {
   "cell_type": "markdown",
   "id": "fdfa2d57",
   "metadata": {},
   "source": [
    "There are no duplicate rows in the dataset, confirming that each record is unique."
   ]
  },
  {
   "cell_type": "code",
   "execution_count": 113,
   "id": "af353b0f",
   "metadata": {},
   "outputs": [
    {
     "name": "stdout",
     "output_type": "stream",
     "text": [
      "       TIME_PERIOD     OBS_VALUE  CONF_STATUS\n",
      "count      17472.0  17217.000000          0.0\n",
      "mean        2019.0     25.547726          NaN\n",
      "std            0.0     25.067589          NaN\n",
      "min         2019.0      0.000000          NaN\n",
      "25%         2019.0      6.600000          NaN\n",
      "50%         2019.0     15.800000          NaN\n",
      "75%         2019.0     37.900000          NaN\n",
      "max         2019.0    100.000000          NaN\n"
     ]
    }
   ],
   "source": [
    "# Summary of numeric columns\n",
    "print(df_exam.describe())"
   ]
  },
  {
   "cell_type": "markdown",
   "id": "3ceaf1ae",
   "metadata": {},
   "source": [
    "The descriptive statistics show that:\n",
    "\n",
    "- All data were collected in 2019, meaning this dataset provides a cross-sectional snapshot (not a time series)\n",
    "- The reported breast examination rates (`OBS_VALUE`) range from 0% to 100%, which is expected for a percentage-based indicator\n",
    "- The mean examination rate is approximately 25.5 %, suggesting that on average, about one in four women reported having had a breast X-ray across all countries, ages, and income levels\n",
    "- The standard deviation (~ 25.1) indicates large variation between groups, some populations have very low participation rates, while others approach full coverage\n",
    "- The column `CONF_STATUS` contains no values and will be dropped during cleaning\n",
    "\n",
    "Overall, the values are realistic and consistent, showing strong variability likely linked to socioeconomic and age-related differences in screening behavior.\n"
   ]
  },
  {
   "cell_type": "code",
   "execution_count": 114,
   "id": "d7597437",
   "metadata": {},
   "outputs": [
    {
     "name": "stdout",
     "output_type": "stream",
     "text": [
      "DATAFLOW: 1 unique values\n",
      "LAST UPDATE: 1 unique values\n",
      "freq: 1 unique values\n",
      "duration: 7 unique values\n",
      "age: 13 unique values\n",
      "quant_inc: 6 unique values\n",
      "unit: 1 unique values\n",
      "geo: 32 unique values\n",
      "OBS_FLAG: 1 unique values\n"
     ]
    }
   ],
   "source": [
    "# Unique values in categorical fields\n",
    "for col in df_exam.select_dtypes('object'):\n",
    "    print(f\"{col}: {df_exam[col].nunique()} unique values\")"
   ]
  },
  {
   "cell_type": "markdown",
   "id": "798788f9",
   "metadata": {},
   "source": [
    "The categorical column analysis reveals that:\n",
    "\n",
    "- `DATAFLOW`, `LAST UPDATE`, `freq`, and `unit` each have only one unique value, meaning they are constant across the dataset and can be safely removed\n",
    "- `duration` has 7 unique values, representing different time intervals since the last breast X-ray (e.g., *never*, *within 1 year*, *within 2 years*, etc.)\n",
    "- `age` contains 13 unique categories, corresponding to different age groups of respondents (e.g., `30–39`, `40–49`, `50–59`, etc.)\n",
    "- `quant_inc` has 6 unique values, covering the five income quintiles (`QU1` to `QU5`) plus possibly one total or undefined category\n",
    "- `geo` includes 32 country codes, representing the European countries covered in the dataset\n",
    "- `OBS_FLAG` has only one unique value, making it redundant and suitable for removal\n",
    "\n",
    "These results confirm that the dataset provides rich variation across age, income, and duration, while several administrative fields can be safely dropped during the cleaning phase."
   ]
  },
  {
   "cell_type": "markdown",
   "id": "edde89dc",
   "metadata": {},
   "source": [
    "### Preliminary Cleaning Decisions\n",
    "\n",
    "Based on the analysis above, the following actions will be applied:\n",
    "1. **Drop irrelevant or redundant columns:**  \n",
    "   `DATAFLOW`, `LAST UPDATE`, `freq`, `CONF_STATUS`, and `OBS_FLAG`: these contain constant or mostly missing administrative information.  \n",
    "\n",
    "2. **Drop missing values in `OBS_VALUE`:**  \n",
    "   Only about 1.5% of entries are missing, so removing them is the simplest and cleanest approach.  \n",
    "\n",
    "3. **Rename columns for clarity:**  \n",
    "   - `geo` --> `country`  \n",
    "   - `TIME_PERIOD` --> `year`  \n",
    "   - `age` --> `age_group`  \n",
    "   - `quant_inc` --> `income_quintile`  \n",
    "   - `OBS_VALUE` --> `exam_rate`\n",
    "\n",
    "4. **Keep only relevant analytical columns:**  \n",
    "   `country`, `year`, `duration`, `age_group`, `income_quintile`, `unit`, and `exam_rate`.\n",
    "\n",
    "5. **Convert data types:**  \n",
    "   - `year` --> integer  \n",
    "   - `exam_rate` --> float  \n",
    "\n",
    "6. **Sort and reindex:**  \n",
    "   Sort by `country` and `income_quintile` for easier cross-country and income-based comparison.\n",
    "\n",
    "After these steps, the dataset will be clean, consistent, and ready for analysis of how income and age influence breast examination rates across Europe."
   ]
  },
  {
   "cell_type": "markdown",
   "id": "19c35752",
   "metadata": {},
   "source": [
    "## Conclusion"
   ]
  },
  {
   "cell_type": "markdown",
   "id": "237c1db4",
   "metadata": {},
   "source": [
    "After exploring the three datasets, we can conclude the following:\n",
    "\n",
    "- All datasets are well-structured and consistent, with clear variables and minimal missing data.  \n",
    "- Several **administrative columns** (such as `DATAFLOW`, `LAST UPDATE`, `freq`, `CONF_STATUS`, and `OBS_FLAG`) were identified as **irrelevant or redundant** and will be removed during the cleaning phase.  \n",
    "- The **screening dataset** (`breast_cancer_screening.csv`) contains reliable yearly data on mammography participation from **2000 to 2021**.  \n",
    "- The **mortality dataset** (`death_due_to_cancer.csv`) provides age-standardized **death rates per 100 000 women** and will be filtered for **female breast cancer (ICD-10: C50)**.  \n",
    "- The **self-reported examination dataset** (`breast_exam_income.csv`) gives a detailed snapshot of **2019** participation rates across **age groups** and **income quintiles**, revealing potential socioeconomic disparities.\n",
    "\n",
    "Overall, the three datasets are complementary and ready for the **data cleaning and preparation phase**, which will be implemented in `prep.py`.  \n",
    "This will ensure uniform column naming, consistent data types, and filtered subsets focused on **female breast cancer screening and mortality** across Europe."
   ]
  }
 ],
 "metadata": {
  "kernelspec": {
   "display_name": "base",
   "language": "python",
   "name": "python3"
  },
  "language_info": {
   "codemirror_mode": {
    "name": "ipython",
    "version": 3
   },
   "file_extension": ".py",
   "mimetype": "text/x-python",
   "name": "python",
   "nbconvert_exporter": "python",
   "pygments_lexer": "ipython3",
   "version": "3.12.7"
  }
 },
 "nbformat": 4,
 "nbformat_minor": 5
}
